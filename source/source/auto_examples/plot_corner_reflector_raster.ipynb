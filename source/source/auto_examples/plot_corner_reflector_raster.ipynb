{
  "cells": [
    {
      "cell_type": "markdown",
      "metadata": {},
      "source": [
        "\n# Example on how to plot out a corner reflector raster\n\nThis example shows how to plot out a corner reflector\nraster scan which also analyzes the data and returns\nthe corner reflector location information\n"
      ]
    },
    {
      "cell_type": "code",
      "execution_count": null,
      "metadata": {
        "collapsed": false
      },
      "outputs": [],
      "source": [
        "import matplotlib.pyplot as plt\nfrom act.io.armfiles import read_netcdf\n\nimport radtraq\n\n# Read in sample data using ACT\nds = read_netcdf(radtraq.tests.sample_files.EXAMPLE_RASTER)\n\n# Process and plot raster file\ndata = radtraq.plotting.corner_reflector.plot_cr_raster(\n    ds, target_range=478.0, el_limits=[-0.5, 2.5], noplot=False\n)\nplt.show()\nds.close()"
      ]
    }
  ],
  "metadata": {
    "kernelspec": {
      "display_name": "Python 3",
      "language": "python",
      "name": "python3"
    },
    "language_info": {
      "codemirror_mode": {
        "name": "ipython",
        "version": 3
      },
      "file_extension": ".py",
      "mimetype": "text/x-python",
      "name": "python",
      "nbconvert_exporter": "python",
      "pygments_lexer": "ipython3",
      "version": "3.10.13"
    }
  },
  "nbformat": 4,
  "nbformat_minor": 0
}