{
  "cells": [
    {
      "cell_type": "code",
      "execution_count": null,
      "metadata": {
        "collapsed": false
      },
      "outputs": [],
      "source": [
        "%matplotlib inline"
      ]
    },
    {
      "cell_type": "markdown",
      "metadata": {},
      "source": [
        "\nExample on how to plot out a corner reflector raster\n----------------------------------------------------\n\nThis example shows how to plot out a corner reflector\nraster scan which also analyzes the data and returns\nthe corner reflector location information\n"
      ]
    },
    {
      "cell_type": "code",
      "execution_count": null,
      "metadata": {
        "collapsed": false
      },
      "outputs": [],
      "source": [
        "import radtraq\nimport act\nimport matplotlib.pyplot as plt\n\n# Read in sample data using ACT\nf = radtraq.tests.sample_files.EXAMPLE_RASTER\nobj = act.io.armfiles.read_netcdf(f)\n\n# Process and plot raster file\ndata = radtraq.plotting.corner_reflector.plot_cr_raster(obj, target_range=478.,\n                                                      el_limits=[-0.5, 2.5], noplot=False)\nprint(data)\n\nplt.show()\nobj.close()"
      ]
    }
  ],
  "metadata": {
    "kernelspec": {
      "display_name": "Python 3",
      "language": "python",
      "name": "python3"
    },
    "language_info": {
      "codemirror_mode": {
        "name": "ipython",
        "version": 3
      },
      "file_extension": ".py",
      "mimetype": "text/x-python",
      "name": "python",
      "nbconvert_exporter": "python",
      "pygments_lexer": "ipython3",
      "version": "3.7.7"
    }
  },
  "nbformat": 4,
  "nbformat_minor": 0
}