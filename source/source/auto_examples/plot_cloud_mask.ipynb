{
  "cells": [
    {
      "cell_type": "code",
      "execution_count": null,
      "metadata": {
        "collapsed": false
      },
      "outputs": [],
      "source": [
        "%matplotlib inline"
      ]
    },
    {
      "cell_type": "markdown",
      "metadata": {},
      "source": [
        "\nExample on how to calculate and plot cloud masks\n------------------------------------------------\n\nThis example shows how to calculate a cloud mask and plot data\n"
      ]
    },
    {
      "cell_type": "code",
      "execution_count": null,
      "metadata": {
        "collapsed": false
      },
      "outputs": [],
      "source": [
        "import radtraq\nimport act\nimport matplotlib.pyplot as plt\n\n# Read in sample data using ACT\nf = radtraq.tests.sample_files.EXAMPLE_KAZR\nobj = act.io.armfiles.read_netcdf(f)\n\n# Resample data for ease of processing\nge = obj.resample(time='1min').nearest()\n\n# Calculate and apply cloud mask\nge = radtraq.proc.cloud_mask.calc_cloud_mask(ge, 'reflectivity_copol', 'range')\nge = ge.where(ge['mask2'] == 1)\n\n# Plot data using ACT\ndisplay = act.plotting.TimeSeriesDisplay(ge)\ndisplay.plot('reflectivity_copol', cmap='jet')\ndisplay.axes[0].set_ylim([0, 20000])\nplt.show()\n\nge.close()"
      ]
    }
  ],
  "metadata": {
    "kernelspec": {
      "display_name": "Python 3",
      "language": "python",
      "name": "python3"
    },
    "language_info": {
      "codemirror_mode": {
        "name": "ipython",
        "version": 3
      },
      "file_extension": ".py",
      "mimetype": "text/x-python",
      "name": "python",
      "nbconvert_exporter": "python",
      "pygments_lexer": "ipython3",
      "version": "3.7.4"
    }
  },
  "nbformat": 4,
  "nbformat_minor": 0
}