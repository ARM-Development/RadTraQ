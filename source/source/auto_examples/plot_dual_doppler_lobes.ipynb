{
  "cells": [
    {
      "cell_type": "markdown",
      "metadata": {},
      "source": [
        "\n# Dual Doppler Lobe Utility\n\nExample for using the utily to plot up dual doppler lobes.\nCan easily be used on cartopy maps using\n\ncode-block:: python\n    tiler = Stamen('terrain-background')\n    mercator = tiler.crs\n    fig = plt.figure()\n    ax = fig.add_subplot(1, 1, 1, projection=mercator)\n    ax.add_image(tiler, 8)\n    ax.coastlines('10m')\n"
      ]
    },
    {
      "cell_type": "code",
      "execution_count": null,
      "metadata": {
        "collapsed": false
      },
      "outputs": [],
      "source": [
        "import radtraq\nimport matplotlib.pyplot as plt\n\nd = {'Cullman': {'lat': 34.26274649951493, 'lon': -86.85874523934974},\n     'Courtland': {'lat': 34.658302981847655, 'lon': -87.34389529761859}}\n\ndata = radtraq.utils.calculate_dual_dop_lobes(d)\n\nfig = plt.figure()\nax = fig.add_subplot(1, 1, 1)\nfor dat in data.keys():\n    ax.plot(data[dat]['lon'], data[dat]['lat'], 'k.')\nfor s in d:\n    ax.plot(d[s]['lon'], d[s]['lat'], 'k*', ms=14)\n    plt.text(d[s]['lon'], d[s]['lat'], s)\n\nplt.show()"
      ]
    }
  ],
  "metadata": {
    "kernelspec": {
      "display_name": "Python 3",
      "language": "python",
      "name": "python3"
    },
    "language_info": {
      "codemirror_mode": {
        "name": "ipython",
        "version": 3
      },
      "file_extension": ".py",
      "mimetype": "text/x-python",
      "name": "python",
      "nbconvert_exporter": "python",
      "pygments_lexer": "ipython3",
      "version": "3.10.13"
    }
  },
  "nbformat": 4,
  "nbformat_minor": 0
}