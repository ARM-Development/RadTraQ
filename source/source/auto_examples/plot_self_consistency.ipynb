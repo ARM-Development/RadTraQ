{
  "cells": [
    {
      "cell_type": "markdown",
      "metadata": {},
      "source": [
        "\n# Self-Consistency Plot\n\nThis example shows how to create a self-consistency plot\n"
      ]
    },
    {
      "cell_type": "code",
      "execution_count": null,
      "metadata": {
        "collapsed": false
      },
      "outputs": [],
      "source": [
        "import matplotlib.pyplot as plt\nfrom act.io.armfiles import read_netcdf\n\nimport radtraq\n\n# Read in example data\nds = read_netcdf(radtraq.tests.sample_files.EXAMPLE_CSAPR)\n\n# Set thresholds of RhoHv > 0.99\nthresh = {'copol_correlation_coeff': 0.99}\n\n# Set up dictionary of variables to plot\nvar_dict = {\n    'differential_reflectivity': {\n        'variable': 'reflectivity',\n        'bin_width': [1, 0.25],\n        'linreg': True,\n    },\n    'specific_differential_phase': {'variable': 'reflectivity'},\n    'differential_phase': {'variable': 'reflectivity', 'bin_width': [1, 2.0]},\n    'mean_doppler_velocity': {'variable': 'reflectivity', 'bin_width': [1, 0.5]},\n}\n\n# Call RadTraQ function\ndisplay = radtraq.plotting.plot_self_consistency(ds, variables=var_dict, thresh=thresh)\nplt.show()"
      ]
    }
  ],
  "metadata": {
    "kernelspec": {
      "display_name": "Python 3",
      "language": "python",
      "name": "python3"
    },
    "language_info": {
      "codemirror_mode": {
        "name": "ipython",
        "version": 3
      },
      "file_extension": ".py",
      "mimetype": "text/x-python",
      "name": "python",
      "nbconvert_exporter": "python",
      "pygments_lexer": "ipython3",
      "version": "3.10.13"
    }
  },
  "nbformat": 4,
  "nbformat_minor": 0
}