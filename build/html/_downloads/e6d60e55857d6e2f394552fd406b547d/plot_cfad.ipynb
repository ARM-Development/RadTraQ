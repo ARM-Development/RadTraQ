{
  "cells": [
    {
      "cell_type": "markdown",
      "metadata": {},
      "source": [
        "\n# Example on how to calculate and plot cfad\n\nThis example shows how to calculate and plot a cfad\n"
      ]
    },
    {
      "cell_type": "code",
      "execution_count": null,
      "metadata": {
        "collapsed": false
      },
      "outputs": [],
      "source": [
        "import matplotlib.pyplot as plt\nfrom act.io.arm import read_arm_netcdf\nfrom open_radar_data import DATASETS\n\nimport radtraq\n\n# Read in example data\nfilename = DATASETS.fetch('sgpkazrgeC1.a1.20190529.000002.cdf')\nds = read_arm_netcdf(filename)\n\n# Calculate CFAD histogram\ndata_array = radtraq.plotting.cfad.calc_cfad(ds, 'reflectivity_copol')\n\n# Plot CFAD histogram\ndims = data_array.dims\ndisplay = radtraq.plotting.cfad.plot_cfad(data_array, data_array[dims[1]], data_array[dims[0]])\nplt.show()"
      ]
    }
  ],
  "metadata": {
    "kernelspec": {
      "display_name": "Python 3",
      "language": "python",
      "name": "python3"
    },
    "language_info": {
      "codemirror_mode": {
        "name": "ipython",
        "version": 3
      },
      "file_extension": ".py",
      "mimetype": "text/x-python",
      "name": "python",
      "nbconvert_exporter": "python",
      "pygments_lexer": "ipython3",
      "version": "3.10.13"
    }
  },
  "nbformat": 4,
  "nbformat_minor": 0
}