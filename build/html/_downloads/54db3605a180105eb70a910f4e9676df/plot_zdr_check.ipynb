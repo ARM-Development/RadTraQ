{
  "cells": [
    {
      "cell_type": "markdown",
      "metadata": {},
      "source": [
        "\n# ZDR Bias Calculation\n\nThis example shows how to calculate the zdr bias from VPT/Birdbath scans\n"
      ]
    },
    {
      "cell_type": "code",
      "execution_count": null,
      "metadata": {
        "collapsed": false
      },
      "outputs": [],
      "source": [
        "import matplotlib.pyplot as plt\nfrom act.io.arm import read_arm_netcdf\nfrom open_radar_data import DATASETS\n\nimport radtraq\n\n# Read in example data\nfilename = DATASETS.fetch('sgpxsaprcfrvptI4.a1.20200205.100827.nc')\nds = read_arm_netcdf(filename)\n\nthresh = {'cross_correlation_ratio_hv': [0.995, 1], 'reflectivity': [10, 30], 'range': [1000, 3000]}\n\n# Call RadTraQ function\nresults = radtraq.proc.calc_zdr_offset(ds, zdr_var='differential_reflectivity', thresh=thresh)\n\nprint('Zdr Bias: ' + '%.2f' % results['bias'])\n\nfig, ax = plt.subplots(1, 3, figsize=(10, 8))\nax[0].plot(results['profile_zdr'], results['range'])\nax[0].set_ylabel('Range (m)')\nax[0].set_xlabel('Zdr (dB)')\nax[1].plot(results['profile_reflectivity'], results['range'])\nax[1].set_xlabel('Zh (dBZ)')\nax[2].plot(results['profile_cross_correlation_ratio_hv'], results['range'])\nax[2].set_xlabel('RhoHV ()')\nplt.show()"
      ]
    }
  ],
  "metadata": {
    "kernelspec": {
      "display_name": "Python 3",
      "language": "python",
      "name": "python3"
    },
    "language_info": {
      "codemirror_mode": {
        "name": "ipython",
        "version": 3
      },
      "file_extension": ".py",
      "mimetype": "text/x-python",
      "name": "python",
      "nbconvert_exporter": "python",
      "pygments_lexer": "ipython3",
      "version": "3.10.13"
    }
  },
  "nbformat": 4,
  "nbformat_minor": 0
}