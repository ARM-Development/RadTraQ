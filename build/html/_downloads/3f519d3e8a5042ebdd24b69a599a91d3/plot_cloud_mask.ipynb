{
  "cells": [
    {
      "cell_type": "markdown",
      "metadata": {},
      "source": [
        "\n# Example on how to calculate and plot cloud masks\n\nThis example shows how to calculate a cloud mask and plot data\n"
      ]
    },
    {
      "cell_type": "code",
      "execution_count": null,
      "metadata": {
        "collapsed": false
      },
      "outputs": [],
      "source": [
        "import act\nimport matplotlib.pyplot as plt\nfrom open_radar_data import DATASETS\n\nimport radtraq\n\n# Read in sample data using ACT\nfilename = DATASETS.fetch('sgpkazrgeC1.a1.20190529.000002.cdf')\nds = act.io.arm.read_arm_netcdf(filename)\n\n# Resample data for ease of processing\nds = ds.resample(time='1min').nearest()\n\n# Calculate and apply cloud mask\nds = radtraq.proc.cloud_mask.calc_cloud_mask(ds, 'reflectivity_copol')\nds = ds.where(ds['cloud_mask_2'] == 1)\n\n# Plot data using ACT\ndisplay = act.plotting.TimeSeriesDisplay(ds)\ndisplay.plot('reflectivity_copol', cmap='jet')\ndisplay.axes[0].set_ylim([0, 20000])\nplt.show()\n\nds.close()"
      ]
    }
  ],
  "metadata": {
    "kernelspec": {
      "display_name": "Python 3",
      "language": "python",
      "name": "python3"
    },
    "language_info": {
      "codemirror_mode": {
        "name": "ipython",
        "version": 3
      },
      "file_extension": ".py",
      "mimetype": "text/x-python",
      "name": "python",
      "nbconvert_exporter": "python",
      "pygments_lexer": "ipython3",
      "version": "3.10.13"
    }
  },
  "nbformat": 4,
  "nbformat_minor": 0
}