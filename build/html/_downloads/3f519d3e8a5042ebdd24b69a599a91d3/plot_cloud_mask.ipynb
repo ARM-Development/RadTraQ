{
  "cells": [
    {
      "cell_type": "code",
      "execution_count": null,
      "metadata": {
        "collapsed": false
      },
      "outputs": [],
      "source": [
        "%matplotlib inline"
      ]
    },
    {
      "cell_type": "markdown",
      "metadata": {},
      "source": [
        "\n# Example on how to calculate and plot cloud masks\n\nThis example shows how to calculate a cloud mask and plot data\n"
      ]
    },
    {
      "cell_type": "code",
      "execution_count": null,
      "metadata": {
        "collapsed": false
      },
      "outputs": [],
      "source": [
        "import radtraq\nimport act\nimport matplotlib.pyplot as plt\n\n# Read in sample data using ACT\nobj = act.io.armfiles.read_netcdf(radtraq.tests.sample_files.EXAMPLE_KAZR)\n\n# Resample data for ease of processing\nobj = obj.resample(time='1min').nearest()\n\n# Calculate and apply cloud mask\nobj = radtraq.proc.cloud_mask.calc_cloud_mask(obj, 'reflectivity_copol')\nobj = obj.where(obj['cloud_mask_2'] == 1)\n\n# Plot data using ACT\ndisplay = act.plotting.TimeSeriesDisplay(obj)\ndisplay.plot('reflectivity_copol', cmap='jet')\ndisplay.axes[0].set_ylim([0, 20000])\nplt.show()\n\nobj.close()"
      ]
    }
  ],
  "metadata": {
    "kernelspec": {
      "display_name": "Python 3",
      "language": "python",
      "name": "python3"
    },
    "language_info": {
      "codemirror_mode": {
        "name": "ipython",
        "version": 3
      },
      "file_extension": ".py",
      "mimetype": "text/x-python",
      "name": "python",
      "nbconvert_exporter": "python",
      "pygments_lexer": "ipython3",
      "version": "3.8.10"
    }
  },
  "nbformat": 4,
  "nbformat_minor": 0
}