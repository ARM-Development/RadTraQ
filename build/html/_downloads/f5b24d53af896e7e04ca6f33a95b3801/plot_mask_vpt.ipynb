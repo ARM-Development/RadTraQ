{
  "cells": [
    {
      "cell_type": "markdown",
      "metadata": {},
      "source": [
        "\n# Example on how to calculate and plot average profiles\n\nThis example shows how to calculate and plot average profiles\nfrom masked data\n"
      ]
    },
    {
      "cell_type": "code",
      "execution_count": null,
      "metadata": {
        "collapsed": false
      },
      "outputs": [],
      "source": [
        "import radtraq\nfrom act.io.armfiles import read_netcdf\nimport matplotlib.pyplot as plt\nimport numpy as np\n\n# Read in Example KAZR File using ACT\nobj = read_netcdf(radtraq.tests.sample_files.EXAMPLE_KAZR)\n\n# Resample to 1-minute to simplify processing\nobj = obj.resample(time='1min').nearest()\n\n# Process cloud mask in order to properly produce average VPT profiles through cloud\nobj = radtraq.proc.cloud_mask.calc_cloud_mask(obj, 'reflectivity_copol')\n\n# Variables to calculate average profiles\nvariable = ['reflectivity_copol', 'mean_doppler_velocity_copol', 'reflectivity_xpol']\n\n# Create a grid to interpolate data onto - Needed for different radars\nfirst_height = 1500.\nygrid = np.arange(first_height, 15000, 50)\n\n# Calculate average profiles\nobj = radtraq.proc.profile.calc_avg_profile(obj, variable=variable, first_height=first_height, ygrid=ygrid)\n\n# Showing how to do this for multiple radars\n# Set up dictionary for profile comparison plotting\nrad_dict = {'sgpkazrgeC1.b1': {'object': obj, 'variable': variable[0]},\n            'sgpkazrge2C1.b1': {'object': obj, 'variable': variable[0]},\n            'sgpkazrmdC1.b1': {'object': obj, 'variable': 'reflectivity_xpol'},\n            'sgpkazrmd2C1.b1': {'object': obj, 'variable': 'reflectivity_xpol'}\n            }\n\n# Plot up profiles and perform comparisons from data in dictionary\ndisplay = radtraq.plotting.plot_avg_profile(rad_dict)\n\n# Show plot\nplt.show()\n\n# Close out object\nobj.close()"
      ]
    }
  ],
  "metadata": {
    "kernelspec": {
      "display_name": "Python 3",
      "language": "python",
      "name": "python3"
    },
    "language_info": {
      "codemirror_mode": {
        "name": "ipython",
        "version": 3
      },
      "file_extension": ".py",
      "mimetype": "text/x-python",
      "name": "python",
      "nbconvert_exporter": "python",
      "pygments_lexer": "ipython3",
      "version": "3.10.13"
    }
  },
  "nbformat": 4,
  "nbformat_minor": 0
}