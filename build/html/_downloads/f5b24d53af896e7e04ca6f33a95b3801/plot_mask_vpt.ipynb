{
  "cells": [
    {
      "cell_type": "markdown",
      "metadata": {},
      "source": [
        "\n# Example on how to calculate and plot average profiles\n\nThis example shows how to calculate and plot average profiles\nfrom masked data\n"
      ]
    },
    {
      "cell_type": "code",
      "execution_count": null,
      "metadata": {
        "collapsed": false
      },
      "outputs": [],
      "source": [
        "import matplotlib.pyplot as plt\nimport numpy as np\nfrom act.io.arm import read_arm_netcdf\nfrom open_radar_data import DATASETS\n\nimport radtraq\n\n# Read in Example KAZR File using ACT\nfilename = DATASETS.fetch('sgpkazrgeC1.a1.20190529.000002.cdf')\nds = read_arm_netcdf(filename)\n\n# Resample to 1-minute to simplify processing\nds = ds.resample(time='1min').nearest()\n\n# Process cloud mask in order to properly produce average VPT profiles through cloud\nds = radtraq.proc.cloud_mask.calc_cloud_mask(ds, 'reflectivity_copol')\n\n# Variables to calculate average profiles\nvariable = ['reflectivity_copol', 'mean_doppler_velocity_copol', 'reflectivity_xpol']\n\n# Create a grid to interpolate data onto - Needed for different radars\nfirst_height = 1500.0\nygrid = np.arange(first_height, 15000, 50)\n\n# Calculate average profiles\nds = radtraq.proc.profile.calc_avg_profile(\n    ds, variable=variable, first_height=first_height, ygrid=ygrid\n)\n\n# Showing how to do this for multiple radars\n# Set up dictionary for profile comparison plotting\nrad_dict = {\n    'sgpkazrgeC1.b1': {'object': ds, 'variable': variable[0]},\n    'sgpkazrge2C1.b1': {'object': ds, 'variable': variable[0]},\n    'sgpkazrmdC1.b1': {'object': ds, 'variable': 'reflectivity_xpol'},\n    'sgpkazrmd2C1.b1': {'object': ds, 'variable': 'reflectivity_xpol'},\n}\n\n# Plot up profiles and perform comparisons from data in dictionary\ndisplay = radtraq.plotting.plot_avg_profile(rad_dict)\n\n# Show plot\nplt.show()\n\n# Close out object\nds.close()"
      ]
    }
  ],
  "metadata": {
    "kernelspec": {
      "display_name": "Python 3",
      "language": "python",
      "name": "python3"
    },
    "language_info": {
      "codemirror_mode": {
        "name": "ipython",
        "version": 3
      },
      "file_extension": ".py",
      "mimetype": "text/x-python",
      "name": "python",
      "nbconvert_exporter": "python",
      "pygments_lexer": "ipython3",
      "version": "3.10.13"
    }
  },
  "nbformat": 4,
  "nbformat_minor": 0
}