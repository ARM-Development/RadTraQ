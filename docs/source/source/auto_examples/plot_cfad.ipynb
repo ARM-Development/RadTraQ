{
  "cells": [
    {
      "cell_type": "code",
      "execution_count": null,
      "metadata": {
        "collapsed": false
      },
      "outputs": [],
      "source": [
        "%matplotlib inline"
      ]
    },
    {
      "cell_type": "markdown",
      "metadata": {},
      "source": [
        "\nExample on how to calculate and plot cfad\n-----------------------------------------\n\nThis example shows how to calculate and plot a cfad\n"
      ]
    },
    {
      "cell_type": "code",
      "execution_count": null,
      "metadata": {
        "collapsed": false
      },
      "outputs": [],
      "source": [
        "import radtraq\nimport act\nimport matplotlib.pyplot as plt\n\n# Read in example data\nobj = act.io.armfiles.read_netcdf(radtraq.tests.sample_files.EXAMPLE_KAZR)\n\n# Calculate CFAD histogram\nhist, x, y = radtraq.plotting.cfad.calc_cfad(obj, 'reflectivity_copol', 'range')\n\n# Plot CFAD histogram\ndisplay = radtraq.plotting.cfad.plot_cfad(hist, x, y)\nplt.show()"
      ]
    }
  ],
  "metadata": {
    "kernelspec": {
      "display_name": "Python 3",
      "language": "python",
      "name": "python3"
    },
    "language_info": {
      "codemirror_mode": {
        "name": "ipython",
        "version": 3
      },
      "file_extension": ".py",
      "mimetype": "text/x-python",
      "name": "python",
      "nbconvert_exporter": "python",
      "pygments_lexer": "ipython3",
      "version": "3.7.4"
    }
  },
  "nbformat": 4,
  "nbformat_minor": 0
}